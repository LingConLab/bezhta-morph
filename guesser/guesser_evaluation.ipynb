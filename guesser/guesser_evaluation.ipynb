{
  "nbformat": 4,
  "nbformat_minor": 0,
  "metadata": {
    "colab": {
      "provenance": []
    },
    "kernelspec": {
      "name": "python3",
      "display_name": "Python 3"
    },
    "language_info": {
      "name": "python"
    }
  },
  "cells": [
    {
      "cell_type": "markdown",
      "source": [
        "To run in Colab (skip otherwise)"
      ],
      "metadata": {
        "id": "2YNSsnLDy3uP"
      }
    },
    {
      "cell_type": "code",
      "execution_count": null,
      "metadata": {
        "id": "BVLWeP2zysfj"
      },
      "outputs": [],
      "source": [
        "!curl -sS https://apertium.projectjj.com/apt/install-release.sh | sudo bash\n",
        "!apt install apertium-all-dev lexd"
      ]
    },
    {
      "cell_type": "markdown",
      "source": [
        "Make sure that `hfst-guess bezhta.guesser.hfst` is in the same directory"
      ],
      "metadata": {
        "id": "wAanhdPSzFSP"
      }
    },
    {
      "cell_type": "markdown",
      "source": [
        "# Coverage"
      ],
      "metadata": {
        "id": "TnNPYSzszPBk"
      }
    },
    {
      "cell_type": "markdown",
      "source": [
        "## Unrecognized tokens"
      ],
      "metadata": {
        "id": "RmgynT2xzcY-"
      }
    },
    {
      "cell_type": "code",
      "source": [
        "def guess_word(word):\n",
        "    output = os.popen(f\"echo {word} | hfst-guess bezhta.guesser.hfst -n 100\").read().rstrip('\\n\\n')\n",
        "    parses = []\n",
        "    for el in output.split('\\n'):\n",
        "        parses.append(':'.join(el.split('\\t')))\n",
        "\n",
        "    return parses"
      ],
      "metadata": {
        "id": "pDGfqWFzy88d"
      },
      "execution_count": null,
      "outputs": []
    },
    {
      "cell_type": "code",
      "source": [
        "def check_guesser_coverage(path):\n",
        "    with open(path, 'r', encoding='utf-8') as file:\n",
        "        file = file.read()\n",
        "        words = re.findall(r\"(?P<num>\\d+) \\^(?P<word>[а-яōāēӣӯӏᴴ]+)\\/.*\\$\", file)\n",
        "        wd = {}\n",
        "        for word in words:\n",
        "            guess = guess_word(word[1])\n",
        "            if guess == ['']:\n",
        "                guess = []\n",
        "            wd[word[1]] = {'number': int(word[0]), 'guess':guess, 'len_guess':len(guess)}\n",
        "\n",
        "    n_recog = 0\n",
        "    n_unrecog = 0\n",
        "    for word in wd.keys():\n",
        "        if wd[word]['len_guess']:\n",
        "            n_recog += wd[word]['number']\n",
        "        else:\n",
        "            n_unrecog += wd[word]['number']\n",
        "\n",
        "    print('recog: ', n_recog)\n",
        "    print('unrecog: ', n_unrecog)\n",
        "    print('coverage: ', n_recog/(n_recog+n_unrecog))\n",
        "\n",
        "    return wd"
      ],
      "metadata": {
        "id": "qRJIu3Zay_tW"
      },
      "execution_count": null,
      "outputs": []
    },
    {
      "cell_type": "code",
      "source": [
        "gospel = check_guesser_coverage('unrecog-gospel.txt')"
      ],
      "metadata": {
        "colab": {
          "base_uri": "https://localhost:8080/"
        },
        "id": "tsb0ZFHO1g2q",
        "outputId": "7ba34961-fd33-41c9-d9e6-35902e585641"
      },
      "execution_count": null,
      "outputs": [
        {
          "output_type": "stream",
          "name": "stdout",
          "text": [
            "recog:  4019\n",
            "unrecog:  995\n",
            "coverage:  0.8015556441962505\n"
          ]
        }
      ]
    },
    {
      "cell_type": "code",
      "source": [
        "gospel = check_guesser_coverage('unrecog-gospel.txt')"
      ],
      "metadata": {
        "colab": {
          "base_uri": "https://localhost:8080/"
        },
        "outputId": "7ba34961-fd33-41c9-d9e6-35902e585641",
        "id": "YeSjb9KAzXxy"
      },
      "execution_count": null,
      "outputs": [
        {
          "output_type": "stream",
          "name": "stdout",
          "text": [
            "recog:  4019\n",
            "unrecog:  995\n",
            "coverage:  0.8015556441962505\n"
          ]
        }
      ]
    },
    {
      "cell_type": "code",
      "source": [
        "gospel = check_guesser_coverage('unrecog-gospel.txt')"
      ],
      "metadata": {
        "colab": {
          "base_uri": "https://localhost:8080/"
        },
        "outputId": "7ba34961-fd33-41c9-d9e6-35902e585641",
        "id": "HBMj1bQszZux"
      },
      "execution_count": null,
      "outputs": [
        {
          "output_type": "stream",
          "name": "stdout",
          "text": [
            "recog:  4019\n",
            "unrecog:  995\n",
            "coverage:  0.8015556441962505\n"
          ]
        }
      ]
    },
    {
      "cell_type": "code",
      "source": [
        "gospel = check_guesser_coverage('unrecog-gospel.txt')"
      ],
      "metadata": {
        "colab": {
          "base_uri": "https://localhost:8080/"
        },
        "outputId": "7ba34961-fd33-41c9-d9e6-35902e585641",
        "id": "XcLu9pmKzbfz"
      },
      "execution_count": null,
      "outputs": [
        {
          "output_type": "stream",
          "name": "stdout",
          "text": [
            "recog:  4019\n",
            "unrecog:  995\n",
            "coverage:  0.8015556441962505\n"
          ]
        }
      ]
    },
    {
      "cell_type": "markdown",
      "source": [
        "## Full corpora"
      ],
      "metadata": {
        "id": "N7B08t-1zQ12"
      }
    },
    {
      "cell_type": "code",
      "source": [
        "def check_guesser_coverage_full(path):\n",
        "   with open(path, 'r', encoding='utf-8') as file:\n",
        "    un = []\n",
        "    total = 0.0\n",
        "    tokens_recognised = 0.0\n",
        "    unique = 0.0\n",
        "    lines = file.readlines()\n",
        "    for l in lines:\n",
        "        parses = [guess_word(i.strip()) for i in l.split()]\n",
        "        for w in parses:\n",
        "          if w[0] != '':\n",
        "            tokens_recognised += 1\n",
        "          total +=1\n",
        "    print('tokens: ', total)\n",
        "    print('tokens recognised: ', tokens_recognised)\n",
        "    print('tokens unrecognised: ', total - tokens_recognised)\n",
        "    print('token coverage: ', tokens_recognised / total)"
      ],
      "metadata": {
        "id": "6K-OPIM66fXE"
      },
      "execution_count": null,
      "outputs": []
    },
    {
      "cell_type": "code",
      "source": [
        "luke_full = check_guesser_coverage_full('text-Luke.txt')"
      ],
      "metadata": {
        "colab": {
          "base_uri": "https://localhost:8080/"
        },
        "id": "9DgzPIkA8b-r",
        "outputId": "ae84e0bc-2717-4ee6-dfad-8f4e144837cb"
      },
      "execution_count": null,
      "outputs": [
        {
          "output_type": "stream",
          "name": "stdout",
          "text": [
            "tokens:  19739.0\n",
            "tokens recognised:  16011.0\n",
            "tokens unrecognised:  3728.0\n",
            "token coverage:  0.8111353158721313\n"
          ]
        }
      ]
    },
    {
      "cell_type": "code",
      "source": [
        "prov_full = check_guesser_coverage_full('text-Prov.txt')"
      ],
      "metadata": {
        "colab": {
          "base_uri": "https://localhost:8080/"
        },
        "id": "hmGECn1Y8gLo",
        "outputId": "003306d1-1774-4a63-bda4-cba8f22e4f79"
      },
      "execution_count": null,
      "outputs": [
        {
          "output_type": "stream",
          "name": "stdout",
          "text": [
            "tokens:  11644.0\n",
            "tokens recognised:  9192.0\n",
            "tokens unrecognised:  2452.0\n",
            "token coverage:  0.7894194434902095\n"
          ]
        }
      ]
    },
    {
      "cell_type": "code",
      "source": [
        "text_1_full = check_guesser_coverage_full('text-turkey.txt')"
      ],
      "metadata": {
        "colab": {
          "base_uri": "https://localhost:8080/"
        },
        "id": "H2Iv9IxO8lFH",
        "outputId": "debc67b0-ed7a-47c7-a538-02903bf81c7c"
      },
      "execution_count": null,
      "outputs": [
        {
          "output_type": "stream",
          "name": "stdout",
          "text": [
            "tokens:  86.0\n",
            "tokens recognised:  71.0\n",
            "tokens unrecognised:  15.0\n",
            "token coverage:  0.8255813953488372\n"
          ]
        }
      ]
    },
    {
      "cell_type": "code",
      "source": [
        "text_2_full = check_guesser_coverage_full('text-life.txt')"
      ],
      "metadata": {
        "colab": {
          "base_uri": "https://localhost:8080/"
        },
        "id": "izJ69qpq8rKw",
        "outputId": "9827e65d-e82b-4830-9c9d-ccd72d92302c"
      },
      "execution_count": null,
      "outputs": [
        {
          "output_type": "stream",
          "name": "stdout",
          "text": [
            "tokens:  116.0\n",
            "tokens recognised:  90.0\n",
            "tokens unrecognised:  26.0\n",
            "token coverage:  0.7758620689655172\n"
          ]
        }
      ]
    },
    {
      "cell_type": "markdown",
      "source": [
        "# Accuracy"
      ],
      "metadata": {
        "id": "S64Ff8IXz8JH"
      }
    },
    {
      "cell_type": "markdown",
      "source": [
        "## All tokens"
      ],
      "metadata": {
        "id": "DhChAC070mjx"
      }
    },
    {
      "cell_type": "code",
      "source": [
        "def guess_word_acc(word):\n",
        "    output = os.popen(f\"echo {word} | hfst-guess bezhta.guesser.hfst -n 100\").read().rstrip('\\n\\n')\n",
        "    parses = []\n",
        "    for el in output.split('\\n'):\n",
        "      if output.split('\\n')[0] != '':\n",
        "        parse = el.split('\\t')[1]\n",
        "        parses.append(re.sub('\\[GUESS_CATEGORY=\\w+\\]', '', parse))\n",
        "    if parses == ['']:\n",
        "        parses = []\n",
        "    return parses"
      ],
      "metadata": {
        "id": "mkBilXuR2dfI"
      },
      "execution_count": null,
      "outputs": []
    },
    {
      "cell_type": "code",
      "source": [
        "def check_guesser_acc(path):\n",
        "  with open(path, 'r', encoding='utf-8') as file:\n",
        "      file = file.read()\n",
        "      fully_guessed = 0.0\n",
        "      recog = 0.0\n",
        "      total = 0.0\n",
        "      tags_guessed = 0.0\n",
        "      seen = []\n",
        "      words = re.findall(r\"\\^(?P<word>[а-яōāēӣӯӏᴴ]+)\\/(?P<parse>.*)\\$\", file)\n",
        "      for w in words:\n",
        "        if w not in seen:\n",
        "          guesses = guess_word_acc(w[0])\n",
        "          if len(guesses) != 0:\n",
        "            if w[1] in guesses:\n",
        "                fully_guessed += 1\n",
        "            #else:\n",
        "                #print('FAIL')\n",
        "                #print('standard:', w[0], w[1])\n",
        "                #print(guesses)\n",
        "            guessed_tags = [re.findall(r\"<.*>\", l)[0] for l in guesses]\n",
        "            true_tags = re.findall(r\"<.*>\", w[1])[0]\n",
        "            if true_tags in guessed_tags:\n",
        "              tags_guessed += 1\n",
        "            recog += 1\n",
        "          total +=1\n",
        "          seen.append(w)\n",
        "      print('total:', total)\n",
        "      print('recognised:', recog)\n",
        "      print('types recognised:', recog/total)\n",
        "      print('fully_guessed:', fully_guessed)\n",
        "      print('fully_guessed_all:', fully_guessed / total)\n",
        "      print('fully_guessed_recog:', fully_guessed / recog)\n",
        "      print('tags_guessed:', tags_guessed / total)"
      ],
      "metadata": {
        "id": "NzBUpx8T4LR-"
      },
      "execution_count": null,
      "outputs": []
    },
    {
      "cell_type": "code",
      "source": [
        "check_guesser_acc('text-1-gold.txt')"
      ],
      "metadata": {
        "colab": {
          "base_uri": "https://localhost:8080/"
        },
        "id": "MuHJuYlk9hCg",
        "outputId": "c2eb5964-1eed-4a98-f2ac-35600704cbf7"
      },
      "execution_count": null,
      "outputs": [
        {
          "output_type": "stream",
          "name": "stdout",
          "text": [
            "total: 76.0\n",
            "recognised: 64.0\n",
            "types recognised: 0.8421052631578947\n",
            "fully_guessed: 26.0\n",
            "fully_guessed_all: 0.34210526315789475\n",
            "fully_guessed_recog: 0.40625\n",
            "tags_guessed: 0.34210526315789475\n"
          ]
        }
      ]
    },
    {
      "cell_type": "code",
      "source": [
        "check_guesser_acc('text-2-gold.txt')"
      ],
      "metadata": {
        "colab": {
          "base_uri": "https://localhost:8080/"
        },
        "id": "ZtTDof2e9srJ",
        "outputId": "bd2bf544-9959-4412-acee-012873221b0e"
      },
      "execution_count": null,
      "outputs": [
        {
          "output_type": "stream",
          "name": "stdout",
          "text": [
            "total: 79.0\n",
            "recognised: 68.0\n",
            "types recognised: 0.8607594936708861\n",
            "fully_guessed: 23.0\n",
            "fully_guessed_all: 0.2911392405063291\n",
            "fully_guessed_recog: 0.3382352941176471\n",
            "tags_guessed: 0.2911392405063291\n"
          ]
        }
      ]
    },
    {
      "cell_type": "markdown",
      "source": [
        "## Perfect tokens"
      ],
      "metadata": {
        "id": "bWjlPSTu0o4V"
      }
    },
    {
      "cell_type": "code",
      "source": [
        "def check_guesser_acc_perfect(path):\n",
        "  with open(path, 'r', encoding='utf-8') as file:\n",
        "      file = file.read()\n",
        "      fully_guessed = 0.0\n",
        "      recog = 0.0\n",
        "      total = 0.0\n",
        "      tags_guessed = 0.0\n",
        "      words = re.findall(r\"\\^(?P<word>[а-яōāēӣӯӏᴴ]+)\\/(.*<(n|v|num|dem)>.*)\\$\", file)\n",
        "      seen = []\n",
        "      for w in words:\n",
        "        if w not in seen:\n",
        "          guesses = guess_word_acc(w[0])\n",
        "          if len(guesses) != 0:\n",
        "            if w[1] in guesses:\n",
        "                fully_guessed += 1\n",
        "            #else:\n",
        "               #print('FAIL')\n",
        "               #print('standard:', w[0], w[1])\n",
        "               #print(guesses)\n",
        "            guessed_tags = [re.findall(r\"<.*>\", l)[0] for l in guesses]\n",
        "            true_tags = re.findall(r\"<.*>\", w[1])[0]\n",
        "            if true_tags in guessed_tags:\n",
        "              tags_guessed += 1\n",
        "            recog += 1\n",
        "          total +=1\n",
        "          seen.append(w)\n",
        "\n",
        "      print('total:', total)\n",
        "      print('recognised:', recog)\n",
        "      print('types recognised:', recog/total)\n",
        "      print('fully_guessed:', fully_guessed)\n",
        "      print('fully_guessed_all:', fully_guessed / total)\n",
        "      print('fully_guessed_recog:', fully_guessed / recog)\n",
        "      print('tags_guessed:', tags_guessed / total)"
      ],
      "metadata": {
        "id": "Lb-pbaBzIUhn"
      },
      "execution_count": null,
      "outputs": []
    },
    {
      "cell_type": "code",
      "source": [
        "check_guesser_acc_perfect('text-1-gold.txt')"
      ],
      "metadata": {
        "colab": {
          "base_uri": "https://localhost:8080/"
        },
        "id": "rfBrLS5XJS-J",
        "outputId": "5863b3bb-e13a-433d-e128-8a1d509da2f0"
      },
      "execution_count": null,
      "outputs": [
        {
          "output_type": "stream",
          "name": "stdout",
          "text": [
            "total: 52.0\n",
            "recognised: 46.0\n",
            "types recognised: 0.8846153846153846\n",
            "fully_guessed: 26.0\n",
            "fully_guessed_all: 0.5\n",
            "fully_guessed_recog: 0.5652173913043478\n",
            "tags_guessed: 0.5\n"
          ]
        }
      ]
    },
    {
      "cell_type": "code",
      "source": [
        "check_guesser_acc_perfect('text-2-gold.txt')"
      ],
      "metadata": {
        "colab": {
          "base_uri": "https://localhost:8080/"
        },
        "id": "rNLFHxSqJHt_",
        "outputId": "096ea7f3-8d8a-4696-ddbd-ec4437b1a176"
      },
      "execution_count": null,
      "outputs": [
        {
          "output_type": "stream",
          "name": "stdout",
          "text": [
            "total: 51.0\n",
            "recognised: 46.0\n",
            "types recognised: 0.9019607843137255\n",
            "fully_guessed: 23.0\n",
            "fully_guessed_all: 0.45098039215686275\n",
            "fully_guessed_recog: 0.5\n",
            "tags_guessed: 0.45098039215686275\n"
          ]
        }
      ]
    },
    {
      "cell_type": "code",
      "source": [
        "check_guesser_acc_perfect('text-2-gold.txt')"
      ],
      "metadata": {
        "colab": {
          "base_uri": "https://localhost:8080/"
        },
        "outputId": "096ea7f3-8d8a-4696-ddbd-ec4437b1a176",
        "id": "85KT4ZA70zui"
      },
      "execution_count": null,
      "outputs": [
        {
          "output_type": "stream",
          "name": "stdout",
          "text": [
            "total: 51.0\n",
            "recognised: 46.0\n",
            "types recognised: 0.9019607843137255\n",
            "fully_guessed: 23.0\n",
            "fully_guessed_all: 0.45098039215686275\n",
            "fully_guessed_recog: 0.5\n",
            "tags_guessed: 0.45098039215686275\n"
          ]
        }
      ]
    },
    {
      "cell_type": "markdown",
      "source": [
        "## Verbs & nouns separately"
      ],
      "metadata": {
        "id": "lIdngYSD0-oM"
      }
    },
    {
      "cell_type": "code",
      "source": [
        "def check_guesser_acc_nouns(path):\n",
        "  with open(path, 'r', encoding='utf-8') as file:\n",
        "      file = file.read()\n",
        "      fully_guessed = 0.0\n",
        "      recog = 0.0\n",
        "      total = 0.0\n",
        "      tags_guessed = 0.0\n",
        "      words = re.findall(r\"\\^(?P<word>[а-яōāēӣӯӏᴴ]+)\\/(.*<(n)>.*)\\$\", file)\n",
        "      seen = []\n",
        "      for w in words:\n",
        "        if w not in seen:\n",
        "          print(w)\n",
        "          guesses = guess_word_acc(w[0])\n",
        "          if len(guesses) != 0:\n",
        "            if w[1] in guesses:\n",
        "                fully_guessed += 1\n",
        "            #else:\n",
        "               #print('FAIL')\n",
        "               #print('standard:', w[0], w[1])\n",
        "               #print(guesses)\n",
        "            guessed_tags = [re.findall(r\"<.*>\", l)[0] for l in guesses]\n",
        "            true_tags = re.findall(r\"<.*>\", w[1])[0]\n",
        "            if true_tags in guessed_tags:\n",
        "              tags_guessed += 1\n",
        "            recog += 1\n",
        "          total +=1\n",
        "          seen.append(w)\n",
        "\n",
        "      print('total:', total)\n",
        "      print('recognised:', recog)\n",
        "      print('types recognised:', recog/total)\n",
        "      print('fully_guessed:', fully_guessed)\n",
        "      print('fully_guessed_all:', fully_guessed / total)\n",
        "      print('fully_guessed_recog:', fully_guessed / recog)\n",
        "      print('tags_guessed:', tags_guessed / total)"
      ],
      "metadata": {
        "id": "jNzsRrG2qaE1"
      },
      "execution_count": null,
      "outputs": []
    },
    {
      "cell_type": "code",
      "source": [
        "check_guesser_acc_nouns('text-1-gold.txt')"
      ],
      "metadata": {
        "colab": {
          "base_uri": "https://localhost:8080/"
        },
        "id": "40zgqOovqdTd",
        "outputId": "5ac15dbc-c53b-414b-8d48-127d660c57b4"
      },
      "execution_count": null,
      "outputs": [
        {
          "output_type": "stream",
          "name": "stdout",
          "text": [
            "('базаййагъой', 'базай<n><obl><cum><ess>', 'n')\n",
            "('бикълабашейоьлъи', 'бикълабашейоьлъи<n>', 'n')\n",
            "('лӏи', 'лӏи<n><abs>', 'n')\n",
            "('аьлӏаьъаьш', 'аьлӏ<n><obl><in><ess><abl>', 'n')\n",
            "('миц', 'миц<n><abs>', 'n')\n",
            "('бикълабашейолъилӏона', 'бикълабашейолъи<n><abs><quot><add>', 'n')\n",
            "('ъаьᴴгъаь', 'ъаьᴴгъаь<n><abs>', 'n')\n",
            "('бикълабашейолъина', 'бикълабашейолъи<n><abs><add>', 'n')\n",
            "('гьекьар', 'гьекьар<n><abs>', 'n')\n",
            "('оьлоьхъаьн', 'оьлоьхъаьн<n><abs>', 'n')\n",
            "('кӏималид', 'кӏима<n><obl><ins>', 'n')\n",
            "('кӏима', 'кӏима<n><abs>', 'n')\n",
            "('цӏитӏад', 'цӏитӏ<n><obl><ins>', 'n')\n",
            "('роьъил', 'роьъил<n><abs>', 'n')\n",
            "('инкар', 'инкар<n><abs>', 'n')\n",
            "('къимат', 'къимат<n><abs>', 'n')\n",
            "('гемо', 'гемо<n><abs>', 'n')\n",
            "('гьикматна', 'гьикмат<n><abs><add>', 'n')\n",
            "total: 18.0\n",
            "recognised: 12.0\n",
            "types recognised: 0.6666666666666666\n",
            "fully_guessed: 3.0\n",
            "fully_guessed_all: 0.16666666666666666\n",
            "fully_guessed_recog: 0.25\n",
            "tags_guessed: 0.16666666666666666\n"
          ]
        }
      ]
    },
    {
      "cell_type": "code",
      "source": [
        "check_guesser_acc_nouns('text-2-gold.txt')"
      ],
      "metadata": {
        "colab": {
          "base_uri": "https://localhost:8080/"
        },
        "id": "RNMV0J-6qucl",
        "outputId": "0057301e-bcfc-43d9-9200-246d623d0da7"
      },
      "execution_count": null,
      "outputs": [
        {
          "output_type": "stream",
          "name": "stdout",
          "text": [
            "('дунналнакъодā', 'дуннал<n><abs><add><irr>', 'n')\n",
            "('аллагь', 'аллагь<n><abs>', 'n')\n",
            "('интернетна', 'интернет<n><abs><conj>', 'n')\n",
            "('кӏетӏослъина', 'кӏетӏослъи<n><abs><add>', 'n')\n",
            "('телевизорлана', 'телевизор<n><obl><erg><add>', 'n')\n",
            "('ийо', 'ийо<n><abs>', 'n')\n",
            "('аболкъодā', 'або<n><obl><dat><irr>', 'n')\n",
            "('руслан', 'руслан<n><abs>', 'n')\n",
            "('оьмроь', 'оьмроь<n><abs>', 'n')\n",
            "('эркенлъина', 'эркенлъи<n><abs><add>', 'n')\n",
            "('або', 'або<n><abs>', 'n')\n",
            "('загьматлъи', 'загьмат<n><abs>', 'n')\n",
            "('хунзахъ', 'хунзахъ<n><abs>', 'n')\n",
            "('жо', 'жо<n><abs>', 'n')\n",
            "('оьмроьлаькьаь', 'оьмроь<n><obl><sup><ess>', 'n')\n",
            "('оьмроьнаь', 'оьмроь<n><abs><add>', 'n')\n",
            "('абона', 'або<n><abs><add>', 'n')\n",
            "('аьгаьрлъина', 'аьгаьрлъи<n><abs><add>', 'n')\n",
            "('заманна', 'заман<n><abs><add>', 'n')\n",
            "('телевизорлиъ', 'телевизор<n><obl><in><ess>', 'n')\n",
            "('интернетлиъ', 'интернет<n><obl><in><ess>', 'n')\n",
            "('аьгаьрлъли', 'аьгаьрлъли<n><abs>', 'n')\n",
            "total: 22.0\n",
            "recognised: 19.0\n",
            "types recognised: 0.8636363636363636\n",
            "fully_guessed: 3.0\n",
            "fully_guessed_all: 0.13636363636363635\n",
            "fully_guessed_recog: 0.15789473684210525\n",
            "tags_guessed: 0.13636363636363635\n"
          ]
        }
      ]
    },
    {
      "cell_type": "code",
      "source": [
        "def check_guesser_acc_verbs(path):\n",
        "  with open(path, 'r', encoding='utf-8') as file:\n",
        "      file = file.read()\n",
        "      fully_guessed = 0.0\n",
        "      recog = 0.0\n",
        "      total = 0.0\n",
        "      tags_guessed = 0.0\n",
        "      words = re.findall(r\"\\^(?P<word>[а-яōāēӣӯӏᴴ]+)\\/(.*<(v)>.*)\\$\", file)\n",
        "      seen = []\n",
        "      for w in words:\n",
        "        if w not in seen:\n",
        "          guesses = guess_word_acc(w[0])\n",
        "          if len(guesses) != 0:\n",
        "            if w[1] in guesses:\n",
        "                fully_guessed += 1\n",
        "            else:\n",
        "               print('FAIL')\n",
        "               print('standard:', w[0], w[1])\n",
        "               print(guesses)\n",
        "            guessed_tags = [re.findall(r\"<.*>\", l)[0] for l in guesses]\n",
        "            true_tags = re.findall(r\"<.*>\", w[1])[0]\n",
        "            if true_tags in guessed_tags:\n",
        "              tags_guessed += 1\n",
        "            recog += 1\n",
        "          total +=1\n",
        "          seen.append(w)\n",
        "\n",
        "      print('total:', total)\n",
        "      print('recognised:', recog)\n",
        "      print('types recognised:', recog/total)\n",
        "      print('fully_guessed:', fully_guessed)\n",
        "      print('fully_guessed_all:', fully_guessed / total)\n",
        "      print('fully_guessed_recog:', fully_guessed / recog)\n",
        "      print('tags_guessed:', tags_guessed / total)"
      ],
      "metadata": {
        "id": "H7Fz2lPtq4EN"
      },
      "execution_count": null,
      "outputs": []
    },
    {
      "cell_type": "code",
      "source": [
        "check_guesser_acc_verbs('text-1-gold.txt')"
      ],
      "metadata": {
        "colab": {
          "base_uri": "https://localhost:8080/"
        },
        "id": "szvqU8rZq2MM",
        "outputId": "50e708e4-37fc-48e3-81ee-bf36d3cc5468"
      },
      "execution_count": null,
      "outputs": [
        {
          "output_type": "stream",
          "name": "stdout",
          "text": [
            "FAIL\n",
            "standard: йуьчӏйаьгъечӏе <IV>уьчӏ<IV>аьгъ<v><neg><pfv.cvb>\n",
            "['йуьчӏ<antip><pl>гъо<v><neg><pfv.cvb>', 'йуьчӏ<antip><pl>гъ<v><neg><pfv.cvb>', 'йуьчӏйаьгъо<v><neg><pfv.cvb>', 'йуьчӏйаьгъе<v><neg><pfv.cvb>', 'йуьчӏйаьгъи<v><neg><pfv.cvb>', 'йуьчӏйаьгъоь<v><neg><pfv.cvb>', 'йуьчӏйаьгъа<v><neg><pfv.cvb>']\n",
            "FAIL\n",
            "standard: богьлъол <III>ов<v><ant.cvb>\n",
            "['б<m>гь<v><ant.cvb>', 'бог<v><ant.cvb>', 'богь<n><obl><dat>', 'богьлъо<n><obl><dat>', 'богьл<n><in><ess><lat>', 'богьл<n><obl><in><ess><lat>', 'богьлъ<n><obl><dat>', 'богьлхъ<n><obl><dat>', 'богьлъ<n><dat>', 'богьлъ<obl><dat>', 'богьлъоа<n><obl><dat>', 'богьлъое<n><obl><dat>', 'богьлъонзил<n><obl><dat>', 'богьлъоам<n><obl><dat>', 'богьлъоо<n><obl><dat>', 'богьлъохāь<n><obl><dat>', 'богьлъоᴴ<n><obl><dat>']\n",
            "FAIL\n",
            "standard: йуьчӏна <II>уьчӏ<v><pfv.cvb>\n",
            "['йуьчӏна<n><pl><abs>', 'йуьчӏ<v><pfv.cvb>', 'йуьчӏни<n><pl><abs>', 'йуьч<num><dstr><abs>', 'йуьча<num><dstr><abs>', 'йуьчӏ<num><part>', 'йуьчӏн<n><pl><abs>', 'йуьчӏнаь<n><pl><abs>', 'йуьчӏна<v><imp>', 'йуьчӏне<v><imp>', 'йуьчӏни<v><imp>', 'йуьчӏно<v><imp>', 'йуьчӏне<n><pl><abs>', 'йуьчӏно<n><pl><abs>', 'йуьчӏноь<n><pl><abs>']\n",
            "FAIL\n",
            "standard: бойчӏе <III>ов<v><neg><pfv.cvb>\n",
            "['бо<v><neg><pfv.cvb>']\n",
            "FAIL\n",
            "standard: йиᴴъилна <IV>иᴴъил<v><pfv.cvb>\n",
            "['йиᴴъил<num><part>', 'йиᴴъил<v><pfv.cvb>', 'йиᴴъилна<n><pl><abs>', 'йиᴴъилни<n><pl><abs>', 'йиᴴъилн<n><pl><abs>', 'йиᴴъилнаь<n><pl><abs>', 'йиᴴъил<dstr><abs>', 'йиᴴъил<num><dstr><abs>', 'йиᴴъилна<v><imp>', 'йиᴴъилне<v><imp>', 'йиᴴъилни<v><imp>', 'йиᴴъилно<v><imp>', 'йиᴴъилне<n><pl><abs>', 'йиᴴъилно<n><pl><abs>', 'йиᴴъилноь<n><pl><abs>']\n",
            "FAIL\n",
            "standard: йиᴴъилйугъолъ <IV>иᴴъил<IV>угъо<v><simul.cvb>\n",
            "['йиᴴъил<II>угъо<v><simul.cvb>', 'йиᴴъил<IV>угъо<v><simul.cvb>', 'йиᴴъил<nhpl>угъо<v><simul.cvb>', 'йиᴴъилй<I>угъо<v><simul.cvb>', 'йиᴴъилйугъо<n><obl><cont><ess>', 'йиᴴъилйуг<obl><cont><ess>', 'йиᴴъилйугъ<n><obl><cont><ess>', 'йиᴴъилйугхъ<n><obl><cont><ess>', 'йиᴴъилйугъ<n><cont><ess>', 'йиᴴъилйугъ<obl><cont><ess>', 'йиᴴъилйугъоа<n><obl><cont><ess>', 'йиᴴъилйугъое<n><obl><cont><ess>', 'йиᴴъилйугъонзил<n><obl><cont><ess>', 'йиᴴъилйугъоам<n><obl><cont><ess>', 'йиᴴъилйугъоо<n><obl><cont><ess>', 'йиᴴъилйугъохāь<n><obl><cont><ess>', 'йиᴴъилйугъоᴴ<n><obl><cont><ess>', 'йиᴴъилйугъо<n><in><ess>', 'йиᴴъилйугъола<n><obl><in><ess>', 'йиᴴъилйугъоле<n><obl><in><ess>', 'йиᴴъилйугъолнзил<n><obl><in><ess>', 'йиᴴъилйугъолам<n><obl><in><ess>', 'йиᴴъилйугъоло<n><obl><in><ess>', 'йиᴴъилйугъолхāь<n><obl><in><ess>', 'йиᴴъилйугъолᴴ<n><obl><in><ess>']\n",
            "FAIL\n",
            "standard: бāхъна <hpl>а<pl>хъ<v><pfv.cvb>\n",
            "['бāхъ<v><pfv.cvb>', 'бāхъна<n><pl><abs>', 'бāх<n><in><ess><add>', 'бāха<n><obl><in><ess><add>', 'бāхе<n><obl><in><ess><add>', 'бāхнзил<n><obl><in><ess><add>', 'бāхам<n><obl><in><ess><add>', 'бāхо<n><obl><in><ess><add>', 'бāххāь<n><obl><in><ess><add>', 'бāхᴴ<n><obl><in><ess><add>', 'бāхъни<n><pl><abs>', 'бāхънаь<n><pl><abs>', 'бāха<num><dstr><abs>', 'бāхъ<num><part>', 'бāхън<n><pl><abs>', 'бāхъ<dstr><abs>', 'бāхъна<v><imp>', 'бāхъне<v><imp>', 'бāхъни<v><imp>', 'бāхъно<v><imp>', 'бāхъне<n><pl><abs>', 'бāхъно<n><pl><abs>', 'бāхъноь<n><pl><abs>']\n",
            "total: 29.0\n",
            "recognised: 29.0\n",
            "types recognised: 1.0\n",
            "fully_guessed: 22.0\n",
            "fully_guessed_all: 0.7586206896551724\n",
            "fully_guessed_recog: 0.7586206896551724\n",
            "tags_guessed: 0.7586206896551724\n"
          ]
        }
      ]
    },
    {
      "cell_type": "code",
      "source": [
        "check_guesser_acc_verbs('text-2-gold.txt')"
      ],
      "metadata": {
        "colab": {
          "base_uri": "https://localhost:8080/"
        },
        "id": "pvBhKxa0rUT2",
        "outputId": "b22552ab-351f-4e64-963b-b5881ec3cb0c"
      },
      "execution_count": null,
      "outputs": [
        {
          "output_type": "stream",
          "name": "stdout",
          "text": [
            "FAIL\n",
            "standard: йовал <IV>ов<v><inf>\n",
            "['йо<v><antip><inf>', 'йо<v><pl><inf>', 'йо<v><pst.ptsp><obl><dat>', 'йо<n><pl><obl><dat>', 'йо<n><obl><dat>', 'й<m>в<v><inf>', 'йова<n><pl><obl><dat>', 'йова<n><obl><dat>', 'йо<antip><v><inf>', 'йо<pl><v><inf>', 'йоᴴ<n><pl><obl><dat>', 'йов<n><pl><obl><dat>', 'йови<n><pl><obl><dat>', 'йоваь<n><pl><obl><dat>', 'йово<n><obl><dat>', 'йова<v><inf>', 'йове<v><inf>', 'йови<v><inf>', 'йово<v><inf>', 'йове<n><pl><obl><dat>', 'йово<n><pl><obl><dat>', 'йовоь<n><pl><obl><dat>', 'йов<dat>', 'йов<n><obl><dat>', 'йовче<n><obl><dat>', 'йованзил<n><obl><dat>', 'йовйо<n><obl><dat>', 'йова<n><dat>', 'йоваа<n><obl><dat>', 'йоваам<n><obl><dat>', 'йовахāь<n><obl><dat>', 'йоваᴴ<n><obl><dat>']\n",
            "FAIL\n",
            "standard: йегāйо <IV>егā<v><pst>\n",
            "['йегā<v><pst>']\n",
            "FAIL\n",
            "standard: бегāкъала <III>ега<v><neg.opt>\n",
            "['<III>ега<v><proh><conj>', '<hpl>ега<v><proh><conj>', 'беге<v><proh><conj>', 'беги<v><proh><conj>', 'бего<v><proh><conj>', 'бегоь<v><proh><conj>', 'бегāᴴкъе<v><imp><conj>', 'бегāᴴкъо<v><imp><conj>', 'бегāкъа<n><pl><abs><conj>', 'бегāкъо<n><pl><abs><conj>', 'бегāкъ<n><pl><abs><conj>', 'бегāкъаь<n><pl><abs><conj>', 'бегāкъа<n><pl><obl><genII>', 'бегāкъо<n><pl><obl><genII>', 'бегāкъ<n><pl><obl><genII>', 'бегāкъаь<n><pl><obl><genII>', 'бегāкъо<n><obl><genII>', 'бегāкъ<n><obl><genII>', 'бегāᴴкъе<v><imp><prmI>', 'бегāᴴкъо<v><imp><prmI>', 'бегāкъа<n><pl><abs>', 'бегāкъала<n><pl><abs>', 'бегāкъали<n><pl><abs>', 'бегāкъ<v><imp><conj>', 'бегāкъи<n><pl><abs><conj>', 'бегāкъи<n><pl><obl><genII>', 'бегāкъа<n><obl><genII>', 'бегāк<n><obl><genII>', 'бегāкъ<v><imp><prmI>', 'бегāкᴴъа<antip><v><imp>', 'бегāкᴴъал<v><imp>', 'бегāкъа<v><imp><conj>', 'бегāкъи<v><imp><conj>', 'бегāкъе<n><pl><abs><conj>', 'бегāкъоь<n><pl><abs><conj>', 'бегāкъе<n><pl><obl><genII>', 'бегāкъоь<n><pl><obl><genII>', 'бегāкъ<genII>', 'бегāкъче<n><obl><genII>', 'бегāкъанзил<n><obl><genII>', 'бегāкъйо<n><obl><genII>', 'бегāкъа<v><imp><prmI>', 'бегāкъи<v><imp><prmI>', 'бегāкъе<antip>ле<v><imp>', 'бегāкъе<pl>ле<v><imp>', 'бегāкъи<antip>л<v><imp>', 'бегāкъи<pl>л<v><imp>', 'бегāкъало<n><pl><abs>', 'бегāкъа<n><genII>', 'бегāкъаа<n><obl><genII>', 'бегāкъаам<n><obl><genII>', 'бегāкъаь<n><obl><genII>', 'бегāкъаᴴ<n><obl><genII>', 'бегāкъал<n><pl><abs>', 'бегāкъалаь<n><pl><abs>', 'бегāкъала<v><imp>', 'бегāкъали<v><imp>', 'бегāкъало<v><imp>', 'бегāкъале<n><pl><abs>', 'бегāкъалоь<n><pl><abs>', 'бегāкъал<dstr><abs>']\n",
            "total: 20.0\n",
            "recognised: 20.0\n",
            "types recognised: 1.0\n",
            "fully_guessed: 17.0\n",
            "fully_guessed_all: 0.85\n",
            "fully_guessed_recog: 0.85\n",
            "tags_guessed: 0.85\n"
          ]
        }
      ]
    }
  ]
}