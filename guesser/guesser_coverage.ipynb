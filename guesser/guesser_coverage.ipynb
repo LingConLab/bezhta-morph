{
 "cells": [
  {
   "cell_type": "code",
   "execution_count": 59,
   "id": "07510c97",
   "metadata": {},
   "outputs": [],
   "source": [
    "import re\n",
    "import os"
   ]
  },
  {
   "cell_type": "code",
   "execution_count": 63,
   "id": "da01a5c5",
   "metadata": {},
   "outputs": [
    {
     "name": "stderr",
     "output_type": "stream",
     "text": [
      "\"sudo\" �� ���� ����७��� ��� ���譥�\n",
      "��������, �ᯮ��塞�� �ணࠬ��� ��� ������ 䠩���.\n",
      "\"apt\" �� ���� ����७��� ��� ���譥�\n",
      "��������, �ᯮ��塞�� �ணࠬ��� ��� ������ 䠩���.\n"
     ]
    }
   ],
   "source": [
    "!curl -sS https://apertium.projectjj.com/apt/install-release.sh | sudo bash\n",
    "!apt install apertium-all-dev lexd"
   ]
  },
  {
   "cell_type": "markdown",
   "id": "a8315e88",
   "metadata": {},
   "source": [
    "Check coverage of the guesser."
   ]
  },
  {
   "cell_type": "markdown",
   "id": "c035f827",
   "metadata": {},
   "source": [
    "To make andi.guesser.hfst: in andi/guesser make andi.guesser.hfst"
   ]
  },
  {
   "cell_type": "markdown",
   "id": "d3c5642c",
   "metadata": {},
   "source": [
    "To make unrecog-fox.txt etc. : andi/coverage make check-unrecog. Make sure the andi.analyzer.hfstol exists in the same repository."
   ]
  },
  {
   "cell_type": "code",
   "execution_count": 61,
   "id": "177f3b15",
   "metadata": {},
   "outputs": [
    {
     "name": "stderr",
     "output_type": "stream",
     "text": [
      "\"chmod\" �� ���� ����७��� ��� ���譥�\n",
      "��������, �ᯮ��塞�� �ணࠬ��� ��� ������ 䠩���.\n"
     ]
    }
   ],
   "source": []
  },
  {
   "cell_type": "code",
   "execution_count": 62,
   "id": "41e0178b",
   "metadata": {},
   "outputs": [
    {
     "data": {
      "text/plain": [
       "''"
      ]
     },
     "execution_count": 62,
     "metadata": {},
     "output_type": "execute_result"
    }
   ],
   "source": [
    "os.popen(f\"echo 'нисал' | hfst-guess bezhta.guesser.hfst -n 10\").read()"
   ]
  },
  {
   "cell_type": "code",
   "execution_count": 47,
   "id": "2aa73b75",
   "metadata": {},
   "outputs": [],
   "source": [
    "def guess_word(word):\n",
    "    output = os.popen(f\"echo {word} | hfst-guess bezhta.guesser.hfst -n 10\").read().rstrip('\\n\\n')\n",
    "    parses = []\n",
    "    for el in output.split('\\n'):\n",
    "        parses.append(':'.join(el.split('\\t')))\n",
    "        \n",
    "    return parses"
   ]
  },
  {
   "cell_type": "code",
   "execution_count": 48,
   "id": "f559bf41",
   "metadata": {},
   "outputs": [],
   "source": [
    "def check_guesser_coverage(path):\n",
    "    with open(path, 'r', encoding='utf-8') as file:\n",
    "        file = file.read()\n",
    "        words = re.findall(r\"(?P<num>\\d+) \\^(?P<word>[а-яōāēӣӯӏᴴ]+)\\/\\*[а-яōāēӣӯӏᴴ]+\\$\", file)\n",
    "        wd = {}\n",
    "        print(guess_word(words[0][1]))\n",
    "        for word in words:\n",
    "            guess = guess_word(word[1])\n",
    "            if guess == ['']:\n",
    "                guess = []\n",
    "            wd[word[1]] = {'number': int(word[0]), 'guess':guess, 'len_guess':len(guess)}\n",
    "\n",
    "    n_recog = 0\n",
    "    n_unrecog = 0\n",
    "    for word in wd.keys():\n",
    "        if wd[word]['len_guess']:\n",
    "            n_recog += wd[word]['number']\n",
    "        else:\n",
    "            n_unrecog += wd[word]['number']\n",
    "\n",
    "    print('recog: ', n_recog)\n",
    "    print('unrecog: ', n_unrecog)\n",
    "    print('coverage: ', n_recog/(n_recog+n_unrecog))\n",
    "    \n",
    "    return wd"
   ]
  },
  {
   "cell_type": "code",
   "execution_count": 49,
   "id": "b30a5cb6",
   "metadata": {},
   "outputs": [
    {
     "name": "stdout",
     "output_type": "stream",
     "text": [
      "\n",
      "['']\n",
      "\n",
      "\n",
      "\n",
      "\n",
      "\n",
      "\n",
      "\n",
      "\n",
      "\n",
      "\n",
      "\n",
      "\n",
      "\n",
      "\n",
      "\n",
      "\n",
      "\n",
      "\n",
      "\n",
      "\n",
      "\n",
      "\n",
      "\n",
      "\n",
      "\n",
      "\n",
      "\n",
      "\n",
      "\n",
      "\n",
      "\n",
      "\n",
      "\n",
      "\n",
      "\n",
      "\n",
      "\n",
      "\n",
      "\n",
      "\n",
      "\n",
      "\n",
      "\n",
      "\n",
      "\n",
      "\n",
      "\n",
      "\n",
      "\n",
      "\n",
      "\n",
      "\n",
      "\n",
      "\n",
      "\n",
      "\n",
      "\n",
      "\n",
      "\n",
      "\n"
     ]
    },
    {
     "ename": "KeyboardInterrupt",
     "evalue": "",
     "output_type": "error",
     "traceback": [
      "\u001b[1;31m---------------------------------------------------------------------------\u001b[0m",
      "\u001b[1;31mKeyboardInterrupt\u001b[0m                         Traceback (most recent call last)",
      "Input \u001b[1;32mIn [49]\u001b[0m, in \u001b[0;36m<module>\u001b[1;34m\u001b[0m\n\u001b[1;32m----> 1\u001b[0m bible_dict \u001b[38;5;241m=\u001b[39m \u001b[43mcheck_guesser_coverage\u001b[49m\u001b[43m(\u001b[49m\u001b[38;5;124;43m'\u001b[39;49m\u001b[38;5;124;43munrecog.txt\u001b[39;49m\u001b[38;5;124;43m'\u001b[39;49m\u001b[43m)\u001b[49m\n",
      "Input \u001b[1;32mIn [48]\u001b[0m, in \u001b[0;36mcheck_guesser_coverage\u001b[1;34m(path)\u001b[0m\n\u001b[0;32m      6\u001b[0m \u001b[38;5;28mprint\u001b[39m(guess_word(words[\u001b[38;5;241m0\u001b[39m][\u001b[38;5;241m1\u001b[39m]))\n\u001b[0;32m      7\u001b[0m \u001b[38;5;28;01mfor\u001b[39;00m word \u001b[38;5;129;01min\u001b[39;00m words:\n\u001b[1;32m----> 8\u001b[0m     guess \u001b[38;5;241m=\u001b[39m \u001b[43mguess_word\u001b[49m\u001b[43m(\u001b[49m\u001b[43mword\u001b[49m\u001b[43m[\u001b[49m\u001b[38;5;241;43m1\u001b[39;49m\u001b[43m]\u001b[49m\u001b[43m)\u001b[49m\n\u001b[0;32m      9\u001b[0m     \u001b[38;5;28;01mif\u001b[39;00m guess \u001b[38;5;241m==\u001b[39m [\u001b[38;5;124m'\u001b[39m\u001b[38;5;124m'\u001b[39m]:\n\u001b[0;32m     10\u001b[0m         guess \u001b[38;5;241m=\u001b[39m []\n",
      "Input \u001b[1;32mIn [47]\u001b[0m, in \u001b[0;36mguess_word\u001b[1;34m(word)\u001b[0m\n\u001b[0;32m      1\u001b[0m \u001b[38;5;28;01mdef\u001b[39;00m \u001b[38;5;21mguess_word\u001b[39m(word):\n\u001b[1;32m----> 2\u001b[0m     output \u001b[38;5;241m=\u001b[39m \u001b[43mos\u001b[49m\u001b[38;5;241;43m.\u001b[39;49m\u001b[43mpopen\u001b[49m\u001b[43m(\u001b[49m\u001b[38;5;124;43mf\u001b[39;49m\u001b[38;5;124;43m\"\u001b[39;49m\u001b[38;5;124;43mecho \u001b[39;49m\u001b[38;5;132;43;01m{\u001b[39;49;00m\u001b[43mword\u001b[49m\u001b[38;5;132;43;01m}\u001b[39;49;00m\u001b[38;5;124;43m | hfst-guess bezhta.guesser.hfst -n 10\u001b[39;49m\u001b[38;5;124;43m\"\u001b[39;49m\u001b[43m)\u001b[49m\u001b[38;5;241;43m.\u001b[39;49m\u001b[43mread\u001b[49m\u001b[43m(\u001b[49m\u001b[43m)\u001b[49m\u001b[38;5;241m.\u001b[39mrstrip(\u001b[38;5;124m'\u001b[39m\u001b[38;5;130;01m\\n\u001b[39;00m\u001b[38;5;130;01m\\n\u001b[39;00m\u001b[38;5;124m'\u001b[39m)\n\u001b[0;32m      3\u001b[0m     \u001b[38;5;28mprint\u001b[39m(output)\n\u001b[0;32m      4\u001b[0m     parses \u001b[38;5;241m=\u001b[39m []\n",
      "File \u001b[1;32mc:\\Users\\User\\AppData\\Local\\Programs\\Python\\Python310\\lib\\encodings\\cp1251.py:22\u001b[0m, in \u001b[0;36mIncrementalDecoder.decode\u001b[1;34m(self, input, final)\u001b[0m\n\u001b[0;32m     21\u001b[0m \u001b[38;5;28;01mclass\u001b[39;00m \u001b[38;5;21;01mIncrementalDecoder\u001b[39;00m(codecs\u001b[38;5;241m.\u001b[39mIncrementalDecoder):\n\u001b[1;32m---> 22\u001b[0m     \u001b[38;5;28;01mdef\u001b[39;00m \u001b[38;5;21mdecode\u001b[39m(\u001b[38;5;28mself\u001b[39m, \u001b[38;5;28minput\u001b[39m, final\u001b[38;5;241m=\u001b[39m\u001b[38;5;28;01mFalse\u001b[39;00m):\n\u001b[0;32m     23\u001b[0m         \u001b[38;5;28;01mreturn\u001b[39;00m codecs\u001b[38;5;241m.\u001b[39mcharmap_decode(\u001b[38;5;28minput\u001b[39m,\u001b[38;5;28mself\u001b[39m\u001b[38;5;241m.\u001b[39merrors,decoding_table)[\u001b[38;5;241m0\u001b[39m]\n",
      "\u001b[1;31mKeyboardInterrupt\u001b[0m: "
     ]
    }
   ],
   "source": [
    "bible_dict = check_guesser_coverage('unrecog.txt')"
   ]
  },
  {
   "cell_type": "code",
   "execution_count": 14,
   "id": "457058a2",
   "metadata": {},
   "outputs": [
    {
     "name": "stdout",
     "output_type": "stream",
     "text": [
      "recog:  4069\n",
      "unrecog:  378\n",
      "coverage:  0.9149988756465033\n"
     ]
    }
   ],
   "source": [
    "tales_dict = check_guesser_coverage('unrecog-tales.txt')"
   ]
  },
  {
   "cell_type": "code",
   "execution_count": 15,
   "id": "14225d10",
   "metadata": {},
   "outputs": [
    {
     "name": "stdout",
     "output_type": "stream",
     "text": [
      "recog:  81\n",
      "unrecog:  9\n",
      "coverage:  0.9\n"
     ]
    }
   ],
   "source": [
    "fox_dict = check_guesser_coverage('unrecog-fox.txt')"
   ]
  }
 ],
 "metadata": {
  "kernelspec": {
   "display_name": "Python 3 (ipykernel)",
   "language": "python",
   "name": "python3"
  },
  "language_info": {
   "codemirror_mode": {
    "name": "ipython",
    "version": 3
   },
   "file_extension": ".py",
   "mimetype": "text/x-python",
   "name": "python",
   "nbconvert_exporter": "python",
   "pygments_lexer": "ipython3",
   "version": "3.10.2"
  }
 },
 "nbformat": 4,
 "nbformat_minor": 5
}
